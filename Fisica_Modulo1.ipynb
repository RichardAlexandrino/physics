{
  "nbformat": 4,
  "nbformat_minor": 0,
  "metadata": {
    "colab": {
      "provenance": [],
      "toc_visible": true,
      "collapsed_sections": [
        "ifNNr5edK6bz",
        "2IZPTL78QF5x",
        "zB7SXbq7QZwE",
        "oCyuIvo8peou",
        "AE1Wkc-gqo7G",
        "rp83bu16rA1e",
        "KkflAS5drYfG",
        "mu6kgXVesFsP",
        "NjB45AI-wEzW",
        "TzretsbnxYfF",
        "fJ0YOQpXyN0l",
        "huR2q9srzuE0",
        "s83KMl9KGaCQ",
        "V-nnY-qHHPTI",
        "o1peqL9SIqhR",
        "x5o0-2GgKBrY",
        "Ot-HWOWZKqiP",
        "AIF_iv1uK8No",
        "b4kmf174LmCv",
        "2TWvavlaXjfB",
        "18kanznsd6er"
      ],
      "authorship_tag": "ABX9TyMHHTYmZc3uhsYCWyBQpOZA",
      "include_colab_link": true
    },
    "kernelspec": {
      "name": "python3",
      "display_name": "Python 3"
    },
    "language_info": {
      "name": "python"
    }
  },
  "cells": [
    {
      "cell_type": "markdown",
      "metadata": {
        "id": "view-in-github",
        "colab_type": "text"
      },
      "source": [
        "<a href=\"https://colab.research.google.com/github/RichardAlexandrino/physics/blob/main/Fisica_Modulo1.ipynb\" target=\"_parent\"><img src=\"https://colab.research.google.com/assets/colab-badge.svg\" alt=\"Open In Colab\"/></a>"
      ]
    },
    {
      "cell_type": "markdown",
      "source": [
        "## A versão em uso do Python"
      ],
      "metadata": {
        "id": "ifNNr5edK6bz"
      }
    },
    {
      "cell_type": "code",
      "execution_count": null,
      "metadata": {
        "id": "CTR7zMzxYzSo",
        "colab": {
          "base_uri": "https://localhost:8080/"
        },
        "outputId": "0566b1b6-fee9-4fb8-843d-bb47337ca05c"
      },
      "outputs": [
        {
          "output_type": "stream",
          "name": "stdout",
          "text": [
            "Python 3.10.11\n"
          ]
        }
      ],
      "source": [
        "!python --version"
      ]
    },
    {
      "cell_type": "markdown",
      "source": [
        "# Tipos de Dados"
      ],
      "metadata": {
        "id": "2IZPTL78QF5x"
      }
    },
    {
      "cell_type": "markdown",
      "source": [
        "## Numericos"
      ],
      "metadata": {
        "id": "0vItejaKQTDQ"
      }
    },
    {
      "cell_type": "markdown",
      "source": [
        "### Inteiros: 'int'"
      ],
      "metadata": {
        "id": "zB7SXbq7QZwE"
      }
    },
    {
      "cell_type": "code",
      "source": [
        "x = 10\n",
        "print (\"x =\", x)\n",
        "print(type(x))"
      ],
      "metadata": {
        "colab": {
          "base_uri": "https://localhost:8080/"
        },
        "id": "WgXyYV72Qa9L",
        "outputId": "48cac82b-0064-45a8-f711-6d33d5b31c99"
      },
      "execution_count": null,
      "outputs": [
        {
          "output_type": "stream",
          "name": "stdout",
          "text": [
            "x = 10\n",
            "<class 'int'>\n"
          ]
        }
      ]
    },
    {
      "cell_type": "code",
      "source": [
        "y = int(20)\n",
        "print('y =', y)\n",
        "print(type(y))"
      ],
      "metadata": {
        "colab": {
          "base_uri": "https://localhost:8080/"
        },
        "id": "ocpA5FMaQfX1",
        "outputId": "288f5830-99f0-4129-b382-1f98219bd3e4"
      },
      "execution_count": null,
      "outputs": [
        {
          "output_type": "stream",
          "name": "stdout",
          "text": [
            "y = 20\n",
            "<class 'int'>\n"
          ]
        }
      ]
    },
    {
      "cell_type": "code",
      "source": [
        "# 1h20"
      ],
      "metadata": {
        "id": "JOQmfM6NQu44"
      },
      "execution_count": null,
      "outputs": []
    },
    {
      "cell_type": "markdown",
      "source": [
        "### Decimais: 'float'"
      ],
      "metadata": {
        "id": "oCyuIvo8peou"
      }
    },
    {
      "cell_type": "code",
      "source": [
        "# m eh a massa da particula\n",
        "m = 80.30 # [m]=kg\n",
        "print(m)\n",
        "print(type(m))"
      ],
      "metadata": {
        "colab": {
          "base_uri": "https://localhost:8080/"
        },
        "id": "dHhgsNa0pyJ1",
        "outputId": "d7c3e16e-a63d-4abf-d12e-e03f81fc29db"
      },
      "execution_count": null,
      "outputs": [
        {
          "output_type": "stream",
          "name": "stdout",
          "text": [
            "80.3\n",
            "<class 'float'>\n"
          ]
        }
      ]
    },
    {
      "cell_type": "code",
      "source": [
        "# massa terra - notacao cientifica\n",
        "massa_t = 5.972e24 # [m]=kg\n",
        "print(massa_t)\n",
        "print(type(massa_t))"
      ],
      "metadata": {
        "colab": {
          "base_uri": "https://localhost:8080/"
        },
        "id": "Bv1653fjp2qx",
        "outputId": "6b53c50f-5c07-4ea5-d3ce-940164e184b1"
      },
      "execution_count": null,
      "outputs": [
        {
          "output_type": "stream",
          "name": "stdout",
          "text": [
            "5.972e+24\n",
            "<class 'float'>\n"
          ]
        }
      ]
    },
    {
      "cell_type": "markdown",
      "source": [
        "### Complexos: 'complex'"
      ],
      "metadata": {
        "id": "AE1Wkc-gqo7G"
      }
    },
    {
      "cell_type": "code",
      "source": [
        "z = 9+8j\n",
        "print(z)\n",
        "print(type(z))"
      ],
      "metadata": {
        "colab": {
          "base_uri": "https://localhost:8080/"
        },
        "id": "CJAJxC40qtYC",
        "outputId": "127ecbb8-13a5-4505-c2e8-d15ad98e37c7"
      },
      "execution_count": null,
      "outputs": [
        {
          "output_type": "stream",
          "name": "stdout",
          "text": [
            "(9+8j)\n",
            "<class 'complex'>\n"
          ]
        }
      ]
    },
    {
      "cell_type": "markdown",
      "source": [
        "## Sequencias"
      ],
      "metadata": {
        "id": "rp83bu16rA1e"
      }
    },
    {
      "cell_type": "markdown",
      "source": [
        "Os elementos são guardados de forma ordenada"
      ],
      "metadata": {
        "id": "4OZY7VXGx1o9"
      }
    },
    {
      "cell_type": "markdown",
      "source": [
        "### String: 'str'"
      ],
      "metadata": {
        "id": "KkflAS5drYfG"
      }
    },
    {
      "cell_type": "code",
      "source": [
        "my_str = 'Python'\n",
        "print(my_str)\n",
        "print(type(my_str))\n",
        "print(my_str[1])\n",
        "print(my_str[4])"
      ],
      "metadata": {
        "colab": {
          "base_uri": "https://localhost:8080/"
        },
        "id": "lU1U2Zx2qyS4",
        "outputId": "fd759932-d416-4dea-b0c6-e073f1a59dc9"
      },
      "execution_count": null,
      "outputs": [
        {
          "output_type": "stream",
          "name": "stdout",
          "text": [
            "Python\n",
            "<class 'str'>\n",
            "y\n",
            "o\n"
          ]
        }
      ]
    },
    {
      "cell_type": "markdown",
      "source": [
        "### Lista: 'list'"
      ],
      "metadata": {
        "id": "mu6kgXVesFsP"
      }
    },
    {
      "cell_type": "code",
      "source": [
        "my_list = ['banana', 'abacate', 'laranja', 'pera']\n",
        "print(my_list)\n",
        "print(type(my_list))\n",
        "print(my_list[2])\n",
        "print(my_list[-2])\n",
        "print(my_list[:]) # mostrar todos os itens\n",
        "print(my_list[0:2])\n",
        "print(my_list[1:3])\n",
        "print(my_list[::2]) # pula de dois em dois\n",
        "\n",
        "# lista permite mudança\n",
        "\n",
        "my_list[0] = 'uva'\n",
        "print(my_list)"
      ],
      "metadata": {
        "colab": {
          "base_uri": "https://localhost:8080/"
        },
        "id": "eOtW6fBssJAr",
        "outputId": "3d543569-c9a0-46a4-bcf4-4a1425aa7636"
      },
      "execution_count": null,
      "outputs": [
        {
          "output_type": "stream",
          "name": "stdout",
          "text": [
            "['banana', 'abacate', 'laranja', 'pera']\n",
            "<class 'list'>\n",
            "laranja\n",
            "laranja\n",
            "['banana', 'abacate', 'laranja', 'pera']\n",
            "['banana', 'abacate']\n",
            "['abacate', 'laranja']\n",
            "['banana', 'laranja']\n",
            "['uva', 'abacate', 'laranja', 'pera']\n"
          ]
        }
      ]
    },
    {
      "cell_type": "markdown",
      "source": [
        "### Tuple: 'tuple'"
      ],
      "metadata": {
        "id": "NjB45AI-wEzW"
      }
    },
    {
      "cell_type": "code",
      "source": [
        "my_tuple = (11, 25, 78, 43.9)\n",
        "print(my_tuple)\n",
        "print(type(my_tuple))\n",
        "\n",
        "# Tuple nao permite alterar os dados\n",
        "# my_tuple[2] = 5"
      ],
      "metadata": {
        "colab": {
          "base_uri": "https://localhost:8080/"
        },
        "id": "aM7oiOA6wI1C",
        "outputId": "cef1d5c6-7b1e-4144-8e20-c079c31534f6"
      },
      "execution_count": null,
      "outputs": [
        {
          "output_type": "stream",
          "name": "stdout",
          "text": [
            "(11, 25, 78, 43.9)\n",
            "<class 'tuple'>\n"
          ]
        }
      ]
    },
    {
      "cell_type": "markdown",
      "source": [
        "## Conjunto: 'set'"
      ],
      "metadata": {
        "id": "TzretsbnxYfF"
      }
    },
    {
      "cell_type": "markdown",
      "source": [
        "Os elementos **não** são guardados de forma ordenada"
      ],
      "metadata": {
        "id": "Ja_Uw9pNx6mF"
      }
    },
    {
      "cell_type": "code",
      "source": [
        "my_set = {100, 40, 'uva'}\n",
        "print(my_set)\n",
        "print(type(my_set))"
      ],
      "metadata": {
        "colab": {
          "base_uri": "https://localhost:8080/"
        },
        "id": "1JF-bpI-xbMI",
        "outputId": "f95446fc-ed97-421e-87d9-9f4371868d44"
      },
      "execution_count": null,
      "outputs": [
        {
          "output_type": "stream",
          "name": "stdout",
          "text": [
            "{40, 100, 'uva'}\n",
            "<class 'set'>\n"
          ]
        }
      ]
    },
    {
      "cell_type": "markdown",
      "source": [
        "## Dicionario: 'dict'"
      ],
      "metadata": {
        "id": "fJ0YOQpXyN0l"
      }
    },
    {
      "cell_type": "markdown",
      "source": [
        "Linka a chave com o valor"
      ],
      "metadata": {
        "id": "Bhxc7xFNyui0"
      }
    },
    {
      "cell_type": "code",
      "source": [
        "my_dict = {'nome':'maria','idade':25,'fone':99999999}\n",
        "print(my_dict)\n",
        "print(type(my_dict))\n",
        "print(my_dict['nome'])"
      ],
      "metadata": {
        "colab": {
          "base_uri": "https://localhost:8080/"
        },
        "id": "ObItreuOyQ5_",
        "outputId": "057a1bb0-0528-45ee-f3be-77026254b67a"
      },
      "execution_count": null,
      "outputs": [
        {
          "output_type": "stream",
          "name": "stdout",
          "text": [
            "{'nome': 'maria', 'idade': 25, 'fone': 99999999}\n",
            "<class 'dict'>\n",
            "maria\n"
          ]
        }
      ]
    },
    {
      "cell_type": "code",
      "source": [
        "tabela = {\"tempo\":[0,1,2],\"posicao\":[1.3,5.8,10.0]}\n",
        "print(tabela)\n",
        "print(tabela[\"tempo\"])"
      ],
      "metadata": {
        "colab": {
          "base_uri": "https://localhost:8080/"
        },
        "id": "2UvmLqx3ynAj",
        "outputId": "b87d56b2-e91e-44c3-be35-e5db201d4e2e"
      },
      "execution_count": null,
      "outputs": [
        {
          "output_type": "stream",
          "name": "stdout",
          "text": [
            "{'tempo': [0, 1, 2], 'posicao': [1.3, 5.8, 10.0]}\n",
            "[0, 1, 2]\n"
          ]
        }
      ]
    },
    {
      "cell_type": "markdown",
      "source": [
        "## Boleano: 'bool'"
      ],
      "metadata": {
        "id": "huR2q9srzuE0"
      }
    },
    {
      "cell_type": "code",
      "source": [
        "var1, var2 = True, False\n",
        "print(var1, var2)\n",
        "print(type(var1), type(var2))"
      ],
      "metadata": {
        "colab": {
          "base_uri": "https://localhost:8080/"
        },
        "id": "orYuTnC8zxJO",
        "outputId": "c767fdf1-adde-4470-da5c-2a3c3ab75cfe"
      },
      "execution_count": null,
      "outputs": [
        {
          "output_type": "stream",
          "name": "stdout",
          "text": [
            "True False\n",
            "<class 'bool'> <class 'bool'>\n"
          ]
        }
      ]
    },
    {
      "cell_type": "markdown",
      "source": [
        "# Operadores"
      ],
      "metadata": {
        "id": "s83KMl9KGaCQ"
      }
    },
    {
      "cell_type": "markdown",
      "source": [
        "## Aritimeticos"
      ],
      "metadata": {
        "id": "KGPXHyw8Ggd3"
      }
    },
    {
      "cell_type": "code",
      "source": [
        "x = 5\n",
        "y = 2\n",
        "print(x + y)\n",
        "print(x - y)\n",
        "print(x * y)\n",
        "print(x / y)\n",
        "print(x // y) # Mostra a parte inteira da divisão\n",
        "print(x % y)\n",
        "print(x ** y) # Exponenciacao"
      ],
      "metadata": {
        "colab": {
          "base_uri": "https://localhost:8080/"
        },
        "id": "MhWrq6gJGfG6",
        "outputId": "8226552d-b9c9-4cec-da77-7f63dd218b51"
      },
      "execution_count": null,
      "outputs": [
        {
          "output_type": "stream",
          "name": "stdout",
          "text": [
            "7\n",
            "3\n",
            "10\n",
            "2.5\n",
            "2\n",
            "1\n",
            "25\n"
          ]
        }
      ]
    },
    {
      "cell_type": "markdown",
      "source": [
        "## Logicos"
      ],
      "metadata": {
        "id": "V-nnY-qHHPTI"
      }
    },
    {
      "cell_type": "code",
      "source": [
        "t, f = True, False\n",
        "print(t, f)\n",
        "print(type(t))"
      ],
      "metadata": {
        "colab": {
          "base_uri": "https://localhost:8080/"
        },
        "id": "Qh1NGfuSHSEF",
        "outputId": "262d1bf7-f3b2-48c7-bcee-fd90c4271ea7"
      },
      "execution_count": null,
      "outputs": [
        {
          "output_type": "stream",
          "name": "stdout",
          "text": [
            "True False\n",
            "<class 'bool'>\n"
          ]
        }
      ]
    },
    {
      "cell_type": "code",
      "source": [
        "print(t and f) # E\n",
        "print(f and f)\n",
        "print(t and t)\n",
        "print(not f) # NAO\n",
        "print(not t)\n",
        "print(t or f) # OU\n",
        "print(t != f) # XOR (OU exclusivo)\n",
        "print(f != f)\n",
        "print(t != t)"
      ],
      "metadata": {
        "colab": {
          "base_uri": "https://localhost:8080/"
        },
        "id": "r7ftRxKEH7mS",
        "outputId": "1302ee77-1aec-45df-907c-8fe05f3d21a9"
      },
      "execution_count": null,
      "outputs": [
        {
          "output_type": "stream",
          "name": "stdout",
          "text": [
            "False\n",
            "False\n",
            "True\n",
            "True\n",
            "False\n",
            "True\n",
            "True\n",
            "False\n",
            "False\n"
          ]
        }
      ]
    },
    {
      "cell_type": "markdown",
      "source": [
        "## Relacionais"
      ],
      "metadata": {
        "id": "o1peqL9SIqhR"
      }
    },
    {
      "cell_type": "code",
      "source": [
        "x = 10\n",
        "y = 7\n",
        "z = 3\n",
        "\n",
        "print(x > y)\n",
        "print(x > y > z)\n",
        "print(x < y)\n",
        "print(y < x)\n",
        "print(x == y)\n",
        "print(x == 10)\n",
        "print(x == 11)\n",
        "print(x != y)\n",
        "print(y != 5)\n",
        "print(x >= y)\n",
        "print(z <= x)"
      ],
      "metadata": {
        "colab": {
          "base_uri": "https://localhost:8080/"
        },
        "id": "kB41FdEEIsF7",
        "outputId": "c9a1ec16-9810-4198-8a79-14192bc69201"
      },
      "execution_count": null,
      "outputs": [
        {
          "output_type": "stream",
          "name": "stdout",
          "text": [
            "True\n",
            "True\n",
            "False\n",
            "True\n",
            "False\n",
            "True\n",
            "False\n",
            "True\n",
            "True\n",
            "True\n",
            "True\n"
          ]
        }
      ]
    },
    {
      "cell_type": "markdown",
      "source": [
        "## Atribuicao"
      ],
      "metadata": {
        "id": "x5o0-2GgKBrY"
      }
    },
    {
      "cell_type": "code",
      "source": [
        "a = 7\n",
        "b = 2\n",
        "print(a, b)\n",
        "\n",
        "a += b\n",
        "print(a, b)"
      ],
      "metadata": {
        "colab": {
          "base_uri": "https://localhost:8080/"
        },
        "id": "7B8jr8MOKESX",
        "outputId": "8d142bd0-7efb-41f6-a487-2f31b249763e"
      },
      "execution_count": null,
      "outputs": [
        {
          "output_type": "stream",
          "name": "stdout",
          "text": [
            "7 2\n",
            "9 2\n"
          ]
        }
      ]
    },
    {
      "cell_type": "code",
      "source": [
        "a -= (a+b)\n",
        "print(a, b)\n",
        "\n",
        "a /= b\n",
        "print(a, b)\n",
        "\n",
        "a *= b\n",
        "print(a, b)"
      ],
      "metadata": {
        "colab": {
          "base_uri": "https://localhost:8080/"
        },
        "id": "6_NWEwzEKMDb",
        "outputId": "0f7645ac-98c8-4c6d-b039-3546d496b507"
      },
      "execution_count": null,
      "outputs": [
        {
          "output_type": "stream",
          "name": "stdout",
          "text": [
            "-2.0 2\n",
            "-1.0 2\n",
            "-2.0 2\n"
          ]
        }
      ]
    },
    {
      "cell_type": "markdown",
      "source": [
        "# Estruturas de Controle"
      ],
      "metadata": {
        "id": "Ot-HWOWZKqiP"
      }
    },
    {
      "cell_type": "markdown",
      "source": [
        "## Se: \"if\""
      ],
      "metadata": {
        "id": "AIF_iv1uK8No"
      }
    },
    {
      "cell_type": "code",
      "source": [
        "n = 10\n",
        "\n",
        "if n > 11:\n",
        "  print(n * 2) # Precisar identar pra fazer parte do laco\n",
        "print(n * 3) # Esta fora do laco"
      ],
      "metadata": {
        "colab": {
          "base_uri": "https://localhost:8080/"
        },
        "id": "z64xdgd-Ks7P",
        "outputId": "55372458-b396-471e-f2ec-741b9d72f6f1"
      },
      "execution_count": null,
      "outputs": [
        {
          "output_type": "stream",
          "name": "stdout",
          "text": [
            "30\n"
          ]
        }
      ]
    },
    {
      "cell_type": "markdown",
      "source": [
        "## Se-se não: \"if-else\""
      ],
      "metadata": {
        "id": "b4kmf174LmCv"
      }
    },
    {
      "cell_type": "code",
      "source": [
        "number = 10\n",
        "if number > 11:\n",
        "  print('é maior que 11')\n",
        "else:\n",
        "  print('é menor que 11')"
      ],
      "metadata": {
        "colab": {
          "base_uri": "https://localhost:8080/"
        },
        "id": "0MVPJAEzXJ08",
        "outputId": "5316c00b-d26f-4f7f-fce2-26824b809f0d"
      },
      "execution_count": 1,
      "outputs": [
        {
          "output_type": "stream",
          "name": "stdout",
          "text": [
            "é menor que 11\n"
          ]
        }
      ]
    },
    {
      "cell_type": "markdown",
      "source": [
        "## Para: \"for\""
      ],
      "metadata": {
        "id": "2TWvavlaXjfB"
      }
    },
    {
      "cell_type": "markdown",
      "source": [
        "Usado para trabalhar com listas"
      ],
      "metadata": {
        "id": "seFN4k3AXssi"
      }
    },
    {
      "cell_type": "code",
      "source": [
        "for i in [1, 2, 3, 4]:\n",
        "  print(i)"
      ],
      "metadata": {
        "colab": {
          "base_uri": "https://localhost:8080/"
        },
        "id": "S1OWxvG-Xm2Q",
        "outputId": "fe473a1b-7cf1-4535-fc4c-7b55dc67dd8e"
      },
      "execution_count": 2,
      "outputs": [
        {
          "output_type": "stream",
          "name": "stdout",
          "text": [
            "1\n",
            "2\n",
            "3\n",
            "4\n"
          ]
        }
      ]
    },
    {
      "cell_type": "code",
      "source": [
        "my_list = [1, 2, 3, 4, 'banana', 'pera', 'uva']\n",
        "for i in my_list:\n",
        "  print(i)"
      ],
      "metadata": {
        "colab": {
          "base_uri": "https://localhost:8080/"
        },
        "id": "-UkQ-rSpX1wp",
        "outputId": "c26c29fb-b541-4b9b-d4f1-48a97edef003"
      },
      "execution_count": 4,
      "outputs": [
        {
          "output_type": "stream",
          "name": "stdout",
          "text": [
            "1\n",
            "2\n",
            "3\n",
            "4\n",
            "banana\n",
            "pera\n",
            "uva\n"
          ]
        }
      ]
    },
    {
      "cell_type": "code",
      "source": [
        "my_tuple = (1, 2, 3, 4)\n",
        "for i in my_tuple:\n",
        "  print(i)"
      ],
      "metadata": {
        "colab": {
          "base_uri": "https://localhost:8080/"
        },
        "id": "pzDUm8UCX82g",
        "outputId": "53372bf8-a730-4354-a0be-6ffb990e5ed3"
      },
      "execution_count": 5,
      "outputs": [
        {
          "output_type": "stream",
          "name": "stdout",
          "text": [
            "1\n",
            "2\n",
            "3\n",
            "4\n"
          ]
        }
      ]
    },
    {
      "cell_type": "markdown",
      "source": [
        "# Importando Bibliotecas"
      ],
      "metadata": {
        "id": "8RReMLj5ZEhg"
      }
    },
    {
      "cell_type": "markdown",
      "source": [
        "## 'Math' e 'Numpy'"
      ],
      "metadata": {
        "id": "18kanznsd6er"
      }
    },
    {
      "cell_type": "code",
      "source": [
        "# sqrt(2) - erro!!: a palavra não existe em python, só em sua biblioteca"
      ],
      "metadata": {
        "id": "uYKKJu49ZGsI"
      },
      "execution_count": 9,
      "outputs": []
    },
    {
      "cell_type": "code",
      "source": [
        "# import math\n",
        "# sqrt(2) - erro!!: tem que chamar o 'math' antes sempre"
      ],
      "metadata": {
        "id": "-tLmEV6HZUQM"
      },
      "execution_count": 10,
      "outputs": []
    },
    {
      "cell_type": "code",
      "source": [
        "import math\n",
        "print(math.sqrt(2))\n",
        "print(math.factorial(3))"
      ],
      "metadata": {
        "colab": {
          "base_uri": "https://localhost:8080/"
        },
        "id": "Sn-biYIqZYBV",
        "outputId": "e9a7fa36-bdb8-4215-bac1-c7f134ab145f"
      },
      "execution_count": 15,
      "outputs": [
        {
          "output_type": "stream",
          "name": "stdout",
          "text": [
            "1.4142135623730951\n",
            "6\n"
          ]
        }
      ]
    },
    {
      "cell_type": "code",
      "source": [
        "# Podemos importar a operação para não precisar chamar o math toda hora\n",
        "from math import sqrt, factorial\n",
        "print(sqrt(2)) # é necessário chamar o print, senão aparecerá apenas o último comando\n",
        "factorial(5)"
      ],
      "metadata": {
        "colab": {
          "base_uri": "https://localhost:8080/"
        },
        "id": "QuGc3u4ZZcs6",
        "outputId": "4ca90030-536c-4328-b1dd-86a0846f486a"
      },
      "execution_count": 23,
      "outputs": [
        {
          "output_type": "stream",
          "name": "stdout",
          "text": [
            "1.4142135623730951\n"
          ]
        },
        {
          "output_type": "execute_result",
          "data": {
            "text/plain": [
              "120"
            ]
          },
          "metadata": {},
          "execution_count": 23
        }
      ]
    },
    {
      "cell_type": "code",
      "source": [
        "import numpy as np\n",
        "\n",
        "# criando um array de dim 1\n",
        "A = np.array([1, 2, 3, 4])\n",
        "print(A)\n",
        "print(type(A))"
      ],
      "metadata": {
        "colab": {
          "base_uri": "https://localhost:8080/"
        },
        "id": "g8UqLQmbaIUQ",
        "outputId": "cfdacaf3-2b94-455e-dbb0-78417ae77c2c"
      },
      "execution_count": 26,
      "outputs": [
        {
          "output_type": "stream",
          "name": "stdout",
          "text": [
            "[1 2 3 4]\n",
            "<class 'numpy.ndarray'>\n"
          ]
        }
      ]
    },
    {
      "cell_type": "code",
      "source": [
        "# Alguns atributos do Array A\n",
        "print(A.ndim) # a dimensao de A\n",
        "print(A.shape) # as dimensoes do array\n",
        "print(A.size) # numero de elementos de A\n",
        "print(A.dtype) # tipo numerico dos elementos"
      ],
      "metadata": {
        "colab": {
          "base_uri": "https://localhost:8080/"
        },
        "id": "FsiFw6JqbXPQ",
        "outputId": "98158d86-cc41-419e-a143-6d194b7a3714"
      },
      "execution_count": 27,
      "outputs": [
        {
          "output_type": "stream",
          "name": "stdout",
          "text": [
            "1\n",
            "(4,)\n",
            "4\n",
            "int64\n"
          ]
        }
      ]
    },
    {
      "cell_type": "code",
      "source": [
        "# Acessando os elementos\n",
        "print(A[0])\n",
        "print(A[1])\n",
        "print(A)"
      ],
      "metadata": {
        "colab": {
          "base_uri": "https://localhost:8080/"
        },
        "id": "BkY4hOHrb0xA",
        "outputId": "8e7d69c9-dab1-4cfa-8f3d-42bcf0257695"
      },
      "execution_count": 33,
      "outputs": [
        {
          "output_type": "stream",
          "name": "stdout",
          "text": [
            "1\n",
            "2\n",
            "[1 2 3 4]\n"
          ]
        }
      ]
    },
    {
      "cell_type": "code",
      "source": [
        "# Criando um array de dim 2 (chamado matriz na algebra linear)\n",
        "B = np.array([[1, 2, 3], [4, 5, 6], [7, 8, 9]])\n",
        "print(B)\n",
        "print(type(B))\n",
        "print(B.shape)\n",
        "print(B[0])\n",
        "print(B[2][2]) # (3,3)"
      ],
      "metadata": {
        "colab": {
          "base_uri": "https://localhost:8080/"
        },
        "id": "XVcow5VQb-kH",
        "outputId": "11d30e7f-313f-4a59-f00b-64af7747fc6e"
      },
      "execution_count": 44,
      "outputs": [
        {
          "output_type": "stream",
          "name": "stdout",
          "text": [
            "[[1 2 3]\n",
            " [4 5 6]\n",
            " [7 8 9]]\n",
            "<class 'numpy.ndarray'>\n",
            "(3, 3)\n",
            "[1 2 3]\n",
            "9\n"
          ]
        }
      ]
    },
    {
      "cell_type": "markdown",
      "source": [
        "## Funcoes uteis no Numpy"
      ],
      "metadata": {
        "id": "lmteI_vadzvM"
      }
    },
    {
      "cell_type": "code",
      "source": [
        "A = np.zeros((4, 4))\n",
        "A"
      ],
      "metadata": {
        "colab": {
          "base_uri": "https://localhost:8080/"
        },
        "id": "d73_DH-td16N",
        "outputId": "04ab0c3b-9e09-453b-fa83-d497a6bc1caa"
      },
      "execution_count": 73,
      "outputs": [
        {
          "output_type": "execute_result",
          "data": {
            "text/plain": [
              "array([[0., 0., 0., 0.],\n",
              "       [0., 0., 0., 0.],\n",
              "       [0., 0., 0., 0.],\n",
              "       [0., 0., 0., 0.]])"
            ]
          },
          "metadata": {},
          "execution_count": 73
        }
      ]
    },
    {
      "cell_type": "code",
      "source": [
        "B = np.ones((4, 4))\n",
        "B"
      ],
      "metadata": {
        "colab": {
          "base_uri": "https://localhost:8080/"
        },
        "id": "-PsknNwReD3h",
        "outputId": "eb0f6c7f-3396-4851-ed41-0ddf8fa4a9cf"
      },
      "execution_count": 74,
      "outputs": [
        {
          "output_type": "execute_result",
          "data": {
            "text/plain": [
              "array([[1., 1., 1., 1.],\n",
              "       [1., 1., 1., 1.],\n",
              "       [1., 1., 1., 1.],\n",
              "       [1., 1., 1., 1.]])"
            ]
          },
          "metadata": {},
          "execution_count": 74
        }
      ]
    },
    {
      "cell_type": "code",
      "source": [
        "C = np.empty((3, 3))\n",
        "C # residuos que estão na memoria, nao eh necessario se preocupar"
      ],
      "metadata": {
        "colab": {
          "base_uri": "https://localhost:8080/"
        },
        "id": "ffZaBbJ0eJwV",
        "outputId": "9129a879-f83d-4fa5-8996-2ec46cc88b4d"
      },
      "execution_count": 72,
      "outputs": [
        {
          "output_type": "execute_result",
          "data": {
            "text/plain": [
              "array([[4.9e-324, 9.9e-324, 1.5e-323],\n",
              "       [2.0e-323, 2.5e-323, 3.0e-323],\n",
              "       [3.5e-323, 4.0e-323, 4.4e-323]])"
            ]
          },
          "metadata": {},
          "execution_count": 72
        }
      ]
    },
    {
      "cell_type": "code",
      "source": [
        "D = np.identity(4)\n",
        "D"
      ],
      "metadata": {
        "colab": {
          "base_uri": "https://localhost:8080/"
        },
        "id": "5LMuuMjzecLs",
        "outputId": "86aaba3d-ec2c-4628-f61d-7c1aaba4fa81"
      },
      "execution_count": 71,
      "outputs": [
        {
          "output_type": "execute_result",
          "data": {
            "text/plain": [
              "array([[1., 0., 0., 0.],\n",
              "       [0., 1., 0., 0.],\n",
              "       [0., 0., 1., 0.],\n",
              "       [0., 0., 0., 1.]])"
            ]
          },
          "metadata": {},
          "execution_count": 71
        }
      ]
    },
    {
      "cell_type": "markdown",
      "source": [
        "1:55:00"
      ],
      "metadata": {
        "id": "W4cLpBINfONT"
      }
    }
  ]
}