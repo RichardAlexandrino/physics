{
  "nbformat": 4,
  "nbformat_minor": 0,
  "metadata": {
    "colab": {
      "provenance": [],
      "toc_visible": true,
      "collapsed_sections": [
        "ifNNr5edK6bz",
        "2IZPTL78QF5x",
        "zB7SXbq7QZwE",
        "oCyuIvo8peou",
        "AE1Wkc-gqo7G",
        "rp83bu16rA1e",
        "KkflAS5drYfG",
        "mu6kgXVesFsP",
        "NjB45AI-wEzW",
        "TzretsbnxYfF",
        "fJ0YOQpXyN0l",
        "huR2q9srzuE0"
      ],
      "authorship_tag": "ABX9TyNgDxoSPlyTP9oq0oNDsbxu",
      "include_colab_link": true
    },
    "kernelspec": {
      "name": "python3",
      "display_name": "Python 3"
    },
    "language_info": {
      "name": "python"
    }
  },
  "cells": [
    {
      "cell_type": "markdown",
      "metadata": {
        "id": "view-in-github",
        "colab_type": "text"
      },
      "source": [
        "<a href=\"https://colab.research.google.com/github/RichardAlexandrino/physics/blob/main/Fisica_Modulo1.ipynb\" target=\"_parent\"><img src=\"https://colab.research.google.com/assets/colab-badge.svg\" alt=\"Open In Colab\"/></a>"
      ]
    },
    {
      "cell_type": "markdown",
      "source": [
        "## A versão em uso do Python"
      ],
      "metadata": {
        "id": "ifNNr5edK6bz"
      }
    },
    {
      "cell_type": "code",
      "execution_count": null,
      "metadata": {
        "id": "CTR7zMzxYzSo",
        "colab": {
          "base_uri": "https://localhost:8080/"
        },
        "outputId": "0566b1b6-fee9-4fb8-843d-bb47337ca05c"
      },
      "outputs": [
        {
          "output_type": "stream",
          "name": "stdout",
          "text": [
            "Python 3.10.11\n"
          ]
        }
      ],
      "source": [
        "!python --version"
      ]
    },
    {
      "cell_type": "markdown",
      "source": [
        "# Tipos de Dados"
      ],
      "metadata": {
        "id": "2IZPTL78QF5x"
      }
    },
    {
      "cell_type": "markdown",
      "source": [
        "## Numericos"
      ],
      "metadata": {
        "id": "0vItejaKQTDQ"
      }
    },
    {
      "cell_type": "markdown",
      "source": [
        "### Inteiros: 'int'"
      ],
      "metadata": {
        "id": "zB7SXbq7QZwE"
      }
    },
    {
      "cell_type": "code",
      "source": [
        "x = 10\n",
        "print (\"x =\", x)\n",
        "print(type(x))"
      ],
      "metadata": {
        "colab": {
          "base_uri": "https://localhost:8080/"
        },
        "id": "WgXyYV72Qa9L",
        "outputId": "48cac82b-0064-45a8-f711-6d33d5b31c99"
      },
      "execution_count": null,
      "outputs": [
        {
          "output_type": "stream",
          "name": "stdout",
          "text": [
            "x = 10\n",
            "<class 'int'>\n"
          ]
        }
      ]
    },
    {
      "cell_type": "code",
      "source": [
        "y = int(20)\n",
        "print('y =', y)\n",
        "print(type(y))"
      ],
      "metadata": {
        "colab": {
          "base_uri": "https://localhost:8080/"
        },
        "id": "ocpA5FMaQfX1",
        "outputId": "288f5830-99f0-4129-b382-1f98219bd3e4"
      },
      "execution_count": null,
      "outputs": [
        {
          "output_type": "stream",
          "name": "stdout",
          "text": [
            "y = 20\n",
            "<class 'int'>\n"
          ]
        }
      ]
    },
    {
      "cell_type": "code",
      "source": [
        "# 1h20"
      ],
      "metadata": {
        "id": "JOQmfM6NQu44"
      },
      "execution_count": null,
      "outputs": []
    },
    {
      "cell_type": "markdown",
      "source": [
        "### Decimais: 'float'"
      ],
      "metadata": {
        "id": "oCyuIvo8peou"
      }
    },
    {
      "cell_type": "code",
      "source": [
        "# m eh a massa da particula\n",
        "m = 80.30 # [m]=kg\n",
        "print(m)\n",
        "print(type(m))"
      ],
      "metadata": {
        "colab": {
          "base_uri": "https://localhost:8080/"
        },
        "id": "dHhgsNa0pyJ1",
        "outputId": "d7c3e16e-a63d-4abf-d12e-e03f81fc29db"
      },
      "execution_count": null,
      "outputs": [
        {
          "output_type": "stream",
          "name": "stdout",
          "text": [
            "80.3\n",
            "<class 'float'>\n"
          ]
        }
      ]
    },
    {
      "cell_type": "code",
      "source": [
        "# massa terra - notacao cientifica\n",
        "massa_t = 5.972e24 # [m]=kg\n",
        "print(massa_t)\n",
        "print(type(massa_t))"
      ],
      "metadata": {
        "colab": {
          "base_uri": "https://localhost:8080/"
        },
        "id": "Bv1653fjp2qx",
        "outputId": "6b53c50f-5c07-4ea5-d3ce-940164e184b1"
      },
      "execution_count": null,
      "outputs": [
        {
          "output_type": "stream",
          "name": "stdout",
          "text": [
            "5.972e+24\n",
            "<class 'float'>\n"
          ]
        }
      ]
    },
    {
      "cell_type": "markdown",
      "source": [
        "### Complexos: 'complex'"
      ],
      "metadata": {
        "id": "AE1Wkc-gqo7G"
      }
    },
    {
      "cell_type": "code",
      "source": [
        "z = 9+8j\n",
        "print(z)\n",
        "print(type(z))"
      ],
      "metadata": {
        "colab": {
          "base_uri": "https://localhost:8080/"
        },
        "id": "CJAJxC40qtYC",
        "outputId": "127ecbb8-13a5-4505-c2e8-d15ad98e37c7"
      },
      "execution_count": null,
      "outputs": [
        {
          "output_type": "stream",
          "name": "stdout",
          "text": [
            "(9+8j)\n",
            "<class 'complex'>\n"
          ]
        }
      ]
    },
    {
      "cell_type": "markdown",
      "source": [
        "## Sequencias"
      ],
      "metadata": {
        "id": "rp83bu16rA1e"
      }
    },
    {
      "cell_type": "markdown",
      "source": [
        "Os elementos são guardados de forma ordenada"
      ],
      "metadata": {
        "id": "4OZY7VXGx1o9"
      }
    },
    {
      "cell_type": "markdown",
      "source": [
        "### String: 'str'"
      ],
      "metadata": {
        "id": "KkflAS5drYfG"
      }
    },
    {
      "cell_type": "code",
      "source": [
        "my_str = 'Python'\n",
        "print(my_str)\n",
        "print(type(my_str))\n",
        "print(my_str[1])\n",
        "print(my_str[4])"
      ],
      "metadata": {
        "colab": {
          "base_uri": "https://localhost:8080/"
        },
        "id": "lU1U2Zx2qyS4",
        "outputId": "fd759932-d416-4dea-b0c6-e073f1a59dc9"
      },
      "execution_count": null,
      "outputs": [
        {
          "output_type": "stream",
          "name": "stdout",
          "text": [
            "Python\n",
            "<class 'str'>\n",
            "y\n",
            "o\n"
          ]
        }
      ]
    },
    {
      "cell_type": "markdown",
      "source": [
        "### Lista: 'list'"
      ],
      "metadata": {
        "id": "mu6kgXVesFsP"
      }
    },
    {
      "cell_type": "code",
      "source": [
        "my_list = ['banana', 'abacate', 'laranja', 'pera']\n",
        "print(my_list)\n",
        "print(type(my_list))\n",
        "print(my_list[2])\n",
        "print(my_list[-2])\n",
        "print(my_list[:]) # mostrar todos os itens\n",
        "print(my_list[0:2])\n",
        "print(my_list[1:3])\n",
        "print(my_list[::2]) # pula de dois em dois\n",
        "\n",
        "# lista permite mudança\n",
        "\n",
        "my_list[0] = 'uva'\n",
        "print(my_list)"
      ],
      "metadata": {
        "colab": {
          "base_uri": "https://localhost:8080/"
        },
        "id": "eOtW6fBssJAr",
        "outputId": "3d543569-c9a0-46a4-bcf4-4a1425aa7636"
      },
      "execution_count": null,
      "outputs": [
        {
          "output_type": "stream",
          "name": "stdout",
          "text": [
            "['banana', 'abacate', 'laranja', 'pera']\n",
            "<class 'list'>\n",
            "laranja\n",
            "laranja\n",
            "['banana', 'abacate', 'laranja', 'pera']\n",
            "['banana', 'abacate']\n",
            "['abacate', 'laranja']\n",
            "['banana', 'laranja']\n",
            "['uva', 'abacate', 'laranja', 'pera']\n"
          ]
        }
      ]
    },
    {
      "cell_type": "markdown",
      "source": [
        "### Tuple: 'tuple'"
      ],
      "metadata": {
        "id": "NjB45AI-wEzW"
      }
    },
    {
      "cell_type": "code",
      "source": [
        "my_tuple = (11, 25, 78, 43.9)\n",
        "print(my_tuple)\n",
        "print(type(my_tuple))\n",
        "\n",
        "# Tuple nao permite alterar os dados\n",
        "# my_tuple[2] = 5"
      ],
      "metadata": {
        "colab": {
          "base_uri": "https://localhost:8080/"
        },
        "id": "aM7oiOA6wI1C",
        "outputId": "cef1d5c6-7b1e-4144-8e20-c079c31534f6"
      },
      "execution_count": null,
      "outputs": [
        {
          "output_type": "stream",
          "name": "stdout",
          "text": [
            "(11, 25, 78, 43.9)\n",
            "<class 'tuple'>\n"
          ]
        }
      ]
    },
    {
      "cell_type": "markdown",
      "source": [
        "## Conjunto: 'set'"
      ],
      "metadata": {
        "id": "TzretsbnxYfF"
      }
    },
    {
      "cell_type": "markdown",
      "source": [
        "Os elementos **não** são guardados de forma ordenada"
      ],
      "metadata": {
        "id": "Ja_Uw9pNx6mF"
      }
    },
    {
      "cell_type": "code",
      "source": [
        "my_set = {100, 40, 'uva'}\n",
        "print(my_set)\n",
        "print(type(my_set))"
      ],
      "metadata": {
        "colab": {
          "base_uri": "https://localhost:8080/"
        },
        "id": "1JF-bpI-xbMI",
        "outputId": "f95446fc-ed97-421e-87d9-9f4371868d44"
      },
      "execution_count": null,
      "outputs": [
        {
          "output_type": "stream",
          "name": "stdout",
          "text": [
            "{40, 100, 'uva'}\n",
            "<class 'set'>\n"
          ]
        }
      ]
    },
    {
      "cell_type": "markdown",
      "source": [
        "## Dicionario: 'dict'"
      ],
      "metadata": {
        "id": "fJ0YOQpXyN0l"
      }
    },
    {
      "cell_type": "markdown",
      "source": [
        "Linka a chave com o valor"
      ],
      "metadata": {
        "id": "Bhxc7xFNyui0"
      }
    },
    {
      "cell_type": "code",
      "source": [
        "my_dict = {'nome':'maria','idade':25,'fone':99999999}\n",
        "print(my_dict)\n",
        "print(type(my_dict))\n",
        "print(my_dict['nome'])"
      ],
      "metadata": {
        "colab": {
          "base_uri": "https://localhost:8080/"
        },
        "id": "ObItreuOyQ5_",
        "outputId": "057a1bb0-0528-45ee-f3be-77026254b67a"
      },
      "execution_count": null,
      "outputs": [
        {
          "output_type": "stream",
          "name": "stdout",
          "text": [
            "{'nome': 'maria', 'idade': 25, 'fone': 99999999}\n",
            "<class 'dict'>\n",
            "maria\n"
          ]
        }
      ]
    },
    {
      "cell_type": "code",
      "source": [
        "tabela = {\"tempo\":[0,1,2],\"posicao\":[1.3,5.8,10.0]}\n",
        "print(tabela)\n",
        "print(tabela[\"tempo\"])"
      ],
      "metadata": {
        "colab": {
          "base_uri": "https://localhost:8080/"
        },
        "id": "2UvmLqx3ynAj",
        "outputId": "b87d56b2-e91e-44c3-be35-e5db201d4e2e"
      },
      "execution_count": null,
      "outputs": [
        {
          "output_type": "stream",
          "name": "stdout",
          "text": [
            "{'tempo': [0, 1, 2], 'posicao': [1.3, 5.8, 10.0]}\n",
            "[0, 1, 2]\n"
          ]
        }
      ]
    },
    {
      "cell_type": "markdown",
      "source": [
        "## Boleano: 'bool'"
      ],
      "metadata": {
        "id": "huR2q9srzuE0"
      }
    },
    {
      "cell_type": "code",
      "source": [
        "var1, var2 = True, False\n",
        "print(var1, var2)\n",
        "print(type(var1), type(var2))"
      ],
      "metadata": {
        "colab": {
          "base_uri": "https://localhost:8080/"
        },
        "id": "orYuTnC8zxJO",
        "outputId": "c767fdf1-adde-4470-da5c-2a3c3ab75cfe"
      },
      "execution_count": null,
      "outputs": [
        {
          "output_type": "stream",
          "name": "stdout",
          "text": [
            "True False\n",
            "<class 'bool'> <class 'bool'>\n"
          ]
        }
      ]
    },
    {
      "cell_type": "code",
      "source": [],
      "metadata": {
        "id": "Nk4cK6Y8z103"
      },
      "execution_count": null,
      "outputs": []
    }
  ]
}